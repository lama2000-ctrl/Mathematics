{
  "nbformat": 4,
  "nbformat_minor": 0,
  "metadata": {
    "colab": {
      "name": "Math_4642_M_L1.ipynb",
      "provenance": [],
      "collapsed_sections": []
    },
    "kernelspec": {
      "name": "python3",
      "display_name": "Python 3"
    },
    "language_info": {
      "name": "python"
    }
  },
  "cells": [
    {
      "cell_type": "markdown",
      "metadata": {
        "id": "SChhcgB_Tkv9"
      },
      "source": [
        "# **Lab 1 : Bisection Method**<br>\n",
        "\n",
        "The bisection method (also known as the binary search method) is a method of finding roots of a non-linear function. The assumption here is that the function is real continuous, otherwise the bisection method will not work. It is based on the **Intermediate Value Theorem** which states that if f(x) is a real continuous function, and if f(x<sub>l</sub>)f(x<sub>u</sub>)\\< 0 then there must be a root between x<sub>l</sub> and x<sub>u</sub>.\n",
        "\n",
        "In today's lab, we will be implementing the bisection method in python. We will be considering the function f(x) as an array of coefficients, for instance if we want to have f(x) = x<sup>3</sup>-2x<sup>2</sup>+4, then in python we will create an array as follows:\n"
      ]
    },
    {
      "cell_type": "code",
      "metadata": {
        "id": "rZ4tGQSjTvYF"
      },
      "source": [
        "f = [1,-2,0,4]\n"
      ],
      "execution_count": 2,
      "outputs": []
    },
    {
      "cell_type": "markdown",
      "metadata": {
        "id": "E4vSfOrrTwlc"
      },
      "source": [
        "Next, you will need to create a user-defined function as follows\n",
        "\n",
        "```\n",
        "bisection_method(f, xl, xu, epsilon)\n",
        "```\n",
        "This function will return the root of the equation represented by the array f and in case it does not reach the root exactly then it will return the close enough value to the root that has an absolute relative approximate error of at most epsilon (%).\n",
        "\n",
        "In python, functions are defined as follows"
      ]
    },
    {
      "cell_type": "code",
      "metadata": {
        "colab": {
          "base_uri": "https://localhost:8080/"
        },
        "id": "aUR8kbzqT0AM",
        "outputId": "c2ea34a0-9544-4e33-f1b3-7796d73abdc7"
      },
      "source": [
        "#Execute this cell to test how the function works\n",
        "\n",
        "def func(a,b):\n",
        "  result = a + b\n",
        "  return result\n",
        "\n",
        "print(func(1,2))"
      ],
      "execution_count": 3,
      "outputs": [
        {
          "output_type": "stream",
          "name": "stdout",
          "text": [
            "3\n"
          ]
        }
      ]
    },
    {
      "cell_type": "markdown",
      "metadata": {
        "id": "cCGekrFWT3Lc"
      },
      "source": [
        "Note that in python, we do not need to specify the data type for parameters nor any return type for the function as these are implicitly determined. Also, note the colon (:) after the function signature. Indentation matters in python, since the consecutive codes having same indentation will be considered as a single block."
      ]
    },
    {
      "cell_type": "markdown",
      "metadata": {
        "id": "3sOLCbqJT7q0"
      },
      "source": [
        "##Task 1\n",
        "Implement the function for bisection method following the requirements set earlier. Write a script after the function to call it and test whether it is working correctly."
      ]
    },
    {
      "cell_type": "code",
      "metadata": {
        "id": "f6HGUB7nT9k9",
        "outputId": "77e7da16-f601-4387-abcb-36afb16afa7e",
        "colab": {
          "base_uri": "https://localhost:8080/"
        }
      },
      "source": [
        "#Complete the following function\n",
        "import numpy as np\n",
        "def func(f,x):\n",
        "    fx=0\n",
        "    for i in range(len(f)):\n",
        "        fx=fx+f[i]*x**(len(f)-i-1)\n",
        "    return fx  \n",
        "iterations=[]\n",
        "epss=[]  \n",
        "def bisection_method(f,xl,xu,epsilon):\n",
        "    i=0\n",
        "    ea=100.0\n",
        "    x_m=(xu+xl)/2\n",
        "    x_u=xu\n",
        "    x_l=xl\n",
        "    arr=[]\n",
        "    x_m_o=0\n",
        "    if func(f,xu)*func(f,xl)>=0:\n",
        "        return None\n",
        "    else:\n",
        "        while(ea>=epsilon):\n",
        "            x_m=(x_u+x_l)/2\n",
        "            ea=abs((x_m-x_m_o)/x_m)\n",
        "            x_m_o=x_m\n",
        "            iterations.append(i)\n",
        "            epss.append(ea)\n",
        "                \n",
        "            arr.append(x_m)\n",
        "            \n",
        "            if func(f,x_l)*func(f,x_m)<0:\n",
        "                x_l=x_l\n",
        "                x_u=x_m\n",
        "            elif func(f,x_m)*func(f,x_u)<0:\n",
        "                x_l=x_m\n",
        "                x_u=x_u\n",
        "            elif func(f,x_m)==0:\n",
        "                \n",
        "                return x_m\n",
        "            else:\n",
        "                return None\n",
        "            i+=1  \n",
        "        return (x_u+x_l)/2    \n",
        "  \n",
        "                  \n",
        "  #write your implementation here\n",
        "  \n",
        "\n",
        "#Write a driver code here for calling the function and testing it\n",
        "print( bisection_method(f, -2, -1,0.00001))\n",
        "  #write your implementation here\n",
        "  \n",
        "\n",
        "#Write a driver code here for calling the function and testing it"
      ],
      "execution_count": 9,
      "outputs": [
        {
          "output_type": "stream",
          "name": "stdout",
          "text": [
            "-1.1303977966308594\n"
          ]
        }
      ]
    },
    {
      "cell_type": "markdown",
      "metadata": {
        "id": "5Jb9dNIqT_f8"
      },
      "source": [
        "We can plot graphs in python using the matplotlib library. An example of plotting graphs is shown here"
      ]
    },
    {
      "cell_type": "code",
      "metadata": {
        "colab": {
          "base_uri": "https://localhost:8080/",
          "height": 295
        },
        "id": "0XJwGIRjUCy7",
        "outputId": "f5636f1d-7174-4d36-8349-2ee5da8bea08"
      },
      "source": [
        "import numpy as np\n",
        "import matplotlib.pyplot as plt\n",
        "\n",
        "iters = iterations #start=0, stop=5, and since no step is given, so default step=1\n",
        "vals = epss #start=100, stop=200, step=20\n",
        "\n",
        "plt.plot(iters, vals)\n",
        "plt.title(\"Iterations vs values plot\")\n",
        "plt.xlabel(\"Iteration\")\n",
        "plt.ylabel(\"Value\")\n",
        "plt.show()"
      ],
      "execution_count": 10,
      "outputs": [
        {
          "output_type": "display_data",
          "data": {
            "image/png": "[encoded data removed]",
            "text/plain": [
              "<Figure size 432x288 with 1 Axes>"
            ]
          },
          "metadata": {
            "needs_background": "light"
          }
        }
      ]
    },
    {
      "cell_type": "markdown",
      "metadata": {
        "id": "Z6sc0ZNUUGNk"
      },
      "source": [
        "## Task 2\n",
        "Generate a plot of **iteration vs relative approx error (%)** for the bisection method function you implemented earlier."
      ]
    }
  ]
}
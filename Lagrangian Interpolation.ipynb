{
  "nbformat": 4,
  "nbformat_minor": 0,
  "metadata": {
    "colab": {
      "name": "180041149_Math_4642_M_L3.ipynb",
      "provenance": [],
      "collapsed_sections": []
    },
    "kernelspec": {
      "name": "python3",
      "display_name": "Python 3"
    },
    "language_info": {
      "name": "python"
    }
  },
  "cells": [
    {
      "cell_type": "markdown",
      "source": [
        "# **Lab 3 : Lagrangian Interpolation**<br>\n",
        "\n",
        "Interpolation is the process of estimating unknown data that lies within the range of some known data. The **Lagrangian Interpolation** is one of the methods of performing this task. In order to interpolate unknown data, one needs to define a model that would fit the known data and based on that model, one would obtain the unknown data. This model would basically be function that tries to satisfy the known data points. There can be various types of functions that may satisfy the same given data points, but for interpolation, we usually choose **polynomials** as interpolating functions due to the fact that polynomials are very to evaluate, differentiate and integrate.\n",
        "\n",
        "In today's lab, we will be implementing the Lagrangian Interpolation in python. To test our implementation, we will be using the same data that we used during our class lectures. Run the following cell to load the known data points:\n"
      ],
      "metadata": {
        "id": "Dex_lDl5gUKB"
      }
    },
    {
      "cell_type": "code",
      "source": [
        "t = [0, 10, 15, 20, 22.5, 30]\n",
        "v = [0, 227.04, 362.78, 517.35, 602.97, 901.67]"
      ],
      "metadata": {
        "id": "_QpvT2CYjART"
      },
      "execution_count": null,
      "outputs": []
    },
    {
      "cell_type": "markdown",
      "source": [
        "##Task 1\n",
        "Design a utility function that will be called in the Lagrangian function. The purpose of this function will be to find the n+1 closest points to the unknown value t_new where we want to interpolate the data, where n is the order of the iterpolating polynomial. The function to be implemented is as follows:"
      ],
      "metadata": {
        "id": "_XU-vXFFzj4T"
      }
    },
    {
      "cell_type": "code",
      "source": [
        "def NearestPoints(t, v, n, t_new):\n",
        "  t_nearest=[]\n",
        "  v_nearest=[]\n",
        "  d=dict()\n",
        "  for k,i in enumerate(t):\n",
        "    d[k]=abs(i-t_new)\n",
        "  sorted_items=sorted(d.items(),key=lambda x:x[1])\n",
        "  k=0\n",
        "  for i in sorted_items:\n",
        "    t_nearest.append(t[i[0]])\n",
        "    v_nearest.append(v[i[0]])  \n",
        "    k+=1\n",
        "    if(k==n+1):\n",
        "      break\n",
        "  return t_nearest,v_nearest     \n",
        "  #Write your implementation here\n",
        "\n",
        "\n",
        "\n",
        "  "
      ],
      "metadata": {
        "id": "xv0ziIB60ET8"
      },
      "execution_count": null,
      "outputs": []
    },
    {
      "cell_type": "markdown",
      "source": [
        "The above function is supposed to return two vectors, say t_nearest and v_nearest consisting of n+1 elements each. For testing the working of the function, we can print the data and see what we are getting. Run the following cell to check this:"
      ],
      "metadata": {
        "id": "LHxyRNGa0RDb"
      }
    },
    {
      "cell_type": "code",
      "source": [
        "n = 3\n",
        "t_new = 16\n",
        "\n",
        "t_nearest, v_nearest = NearestPoints(t, v, n, t_new)\n",
        "print(t_nearest)\n",
        "print(v_nearest)"
      ],
      "metadata": {
        "id": "Ls-vZyV50zgq",
        "outputId": "9fe36ab0-84ba-428c-f596-dcc593d51e6a",
        "colab": {
          "base_uri": "https://localhost:8080/"
        }
      },
      "execution_count": null,
      "outputs": [
        {
          "output_type": "stream",
          "name": "stdout",
          "text": [
            "[15, 20, 10, 22.5]\n",
            "[362.78, 517.35, 227.04, 602.97]\n"
          ]
        }
      ]
    },
    {
      "cell_type": "markdown",
      "source": [
        "##Task 2\n",
        "Now your task is to design a generalized function that takes the given data as parameters as well as the order (n) of the polynomial and uses the Newton's Divided Difference Polynomial to interpolate the uknown data at t_new. The following cell contains the function to be implemented:"
      ],
      "metadata": {
        "id": "GzKLR0nkj32g"
      }
    },
    {
      "cell_type": "code",
      "source": [
        "def Lagrangian(t, v, n, t_new):\n",
        "  t_nearest,v_nearest=NearestPoints(t, v, n, t_new)\n",
        "  t_nearest.sort()\n",
        "  v_nearest.sort()\n",
        "  value=0\n",
        "  for i in range(n+1):\n",
        "    product=v_nearest[i]\n",
        "    for j in range(n+1):\n",
        "      if i!=j:\n",
        "        product=product*(t_new-t_nearest[j])/(t_nearest[i]-t_nearest[j])\n",
        "    value+=product    \n",
        "  return value    \n",
        "  #Write your implementation here\n",
        "\n",
        "\n",
        "\n",
        "  \n"
      ],
      "metadata": {
        "id": "2m1trUT_k5pi"
      },
      "execution_count": null,
      "outputs": []
    },
    {
      "cell_type": "code",
      "source": [
        ""
      ],
      "metadata": {
        "id": "YfCeoOoB9V2h",
        "outputId": "c5e47dda-59fc-404f-fa02-bc6785a4f524",
        "colab": {
          "base_uri": "https://localhost:8080/"
        }
      },
      "execution_count": null,
      "outputs": [
        {
          "output_type": "execute_result",
          "data": {
            "text/plain": [
              "392.0705789155556"
            ]
          },
          "metadata": {},
          "execution_count": 7
        }
      ]
    },
    {
      "cell_type": "markdown",
      "source": [
        "Note that the above function will at first needs to find a number of closest points to the unknown data (t_new), and this number will vary depending on the order (n) of the polynomial that we want to use as the interpolating function. So you will have to call the function you implemented in Task 1 inside this function."
      ],
      "metadata": {
        "id": "vcJ2VMvplfpw"
      }
    },
    {
      "cell_type": "markdown",
      "source": [
        "##Task 3\n",
        "Now, test the function using different order of polynomials, setting n = 1, 2 and 3 and print the absolute relative approximate error at each step."
      ],
      "metadata": {
        "id": "HhsqLMYYpD8S"
      }
    },
    {
      "cell_type": "code",
      "source": [
        "#Write your code here for finding the relative approximate errors for different orders of the polynomial\n",
        "import numpy as np\n",
        "import matplotlib.pyplot as plt\n",
        "errors=[]\n",
        "app=[]\n",
        "for i in range(1,6):\n",
        "   approx=Lagrangian(t, v, i, t_new)\n",
        "   app.append(approx)\n",
        "   if(i>1):\n",
        "     errors.append(abs((app[i-1]-app[i-2])/app[i-1]))\n",
        "X=np.arange(1,5)     \n",
        "Y=errors\n",
        "print(Y)\n",
        "plt.plot(X,Y,\"b\")\n",
        "plt.title(\"PLot Errors vs order of the polynomial\")\n",
        "plt.xlabel(\"order of the polynomial\")\n",
        "plt.ylabel(\"Errors\")\n"
      ],
      "metadata": {
        "id": "ShRMjjHSm-dq",
        "outputId": "66657028-e283-4c96-84bc-1763e0ed2c39",
        "colab": {
          "base_uri": "https://localhost:8080/",
          "height": 332
        }
      },
      "execution_count": null,
      "outputs": [
        {
          "output_type": "stream",
          "name": "stdout",
          "text": [
            "[0.0038410189409355173, 0.00033268617601177986, 4.2193426572744596e-05, 7.988402971821866e-06]\n"
          ]
        },
        {
          "output_type": "execute_result",
          "data": {
            "text/plain": [
              "Text(0, 0.5, 'Errors')"
            ]
          },
          "metadata": {},
          "execution_count": 17
        },
        {
          "output_type": "display_data",
          "data": {
            "image/png": "[encoded data removed]",
            "text/plain": [
              "<Figure size 432x288 with 1 Axes>"
            ]
          },
          "metadata": {
            "needs_background": "light"
          }
        }
      ]
    },
    {
      "cell_type": "code",
      "source": [
        ""
      ],
      "metadata": {
        "id": "l6tx2IGw-NxX"
      },
      "execution_count": null,
      "outputs": []
    }
  ]
}
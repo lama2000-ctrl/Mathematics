{
  "nbformat": 4,
  "nbformat_minor": 0,
  "metadata": {
    "colab": {
      "name": "Math_4642_M_L5.ipynb",
      "provenance": [],
      "collapsed_sections": [],
      "toc_visible": true
    },
    "kernelspec": {
      "name": "python3",
      "display_name": "Python 3"
    },
    "language_info": {
      "name": "python"
    }
  },
  "cells": [
    {
      "cell_type": "markdown",
      "source": [
        "# **Lab 5 : Ordinary Differential Equations**<br>\n",
        "\n",
        "Ordinary Differential Equation (ODE) is a differential equation consisting of one or more functions of a single independent variable and the derivatives of those functions. Finding derivatives analytically is a complex procedure, involving a lot of rules. Computers and calculators find derivatives using some sort of numerical methods, such as **Euler's method**, **Runge-Kutta 2<sup>nd</sup> order method** and **Runge-Kutta 4<sup>th</sup> order method**. An important thing to note here is that these numerical methods can only solve first order ODE of the form $ \\frac{dy}{dx}=f(x,y), y(0)=y_0 $. Then how do we solve higher order differential equations? Basically, we convert higher order derivatives of one variable into first order derivatives of a different variable, and then apply one of those numerical methods we just talked about.\n",
        "\n",
        "In today's lab, we will be implementing the **Runge-Kutta 2<sup>nd</sup> order method** for solving a second order ODE in python. Refer to the example 3 in the higher order differential equations pdf. There are 3 methods associated with **Runge-Kutta 2<sup>nd</sup> order method** and we will be using the Heun's method so as to be able to check our results with the ones obtained in the example. \n",
        "\n",
        "The following is the problem you need to solve. Given the ordinary differential equation $ \\frac{d^2y}{dx^2}+2\\frac{dy}{dx}+y=e^{-t}, y(0)=1, \\frac{dy}{dx}(0)=2 $, find using Heun's method $y(0.75)$ using a step size of $h=0.25$"
      ],
      "metadata": {
        "id": "Dex_lDl5gUKB"
      }
    },
    {
      "cell_type": "markdown",
      "source": [
        "##Task 1\n",
        "Convert the higher order differential equation into two first order differential equations of two different variables $y$ and $z$. Implement two functions for $f_1$ and $f_2$. Then, complete the following RungeKutta2() method that takes the initial values for y and z as well as the step size and the point t_o at which we are trying to estimate y and finally uses the previous two functions at every iteration to calculate $y_{i+1}$ and $z_{i+1}$. The function should return the result for $y(0.75)$."
      ],
      "metadata": {
        "id": "_XU-vXFFzj4T"
      }
    },
    {
      "cell_type": "code",
      "source": [
        "import numpy as np\n",
        "import pandas as pd\n",
        "def f1(t,y,z):\n",
        "  return z\n",
        "  #Your code here\n",
        "\n",
        "def f2(t,y,z):\n",
        "  return np.exp(-t)-2*z-y\n",
        "  #Your code here\n",
        "\n",
        "\n",
        "def RungeKutta2(y0, z0, h, t_o):\n",
        "  yis=[y0]\n",
        "  zis=[z0]\n",
        "  for i in range(round(0.75/h)):\n",
        "    k1y=f1(t_o,y0,z0)\n",
        "    k1z=f2(t_o,y0,z0)\n",
        "    k2z=f2(t_o+h,y0+h*k1y,z0+h*k1z)\n",
        "    k2y=f1(t_o+h,y0+h*k1y,z0+h*k1z)\n",
        "    \n",
        "    y=y0+0.5*(k1y+k2y)*h\n",
        "    z=z0+0.5*(k1z+k2z)*h\n",
        "    y0=y\n",
        "    z0=z\n",
        "    t_o=t_o+h\n",
        "    yis.append(y0)\n",
        "    zis.append(z0)\n",
        "  d = {'yi': yis, 'zi': zis}  \n",
        "  df=pd.DataFrame(data=d) \n",
        "  return df\n",
        "  #Your code here\n",
        "\n",
        "  \n",
        "\n",
        "  "
      ],
      "metadata": {
        "id": "xv0ziIB60ET8"
      },
      "execution_count": 25,
      "outputs": []
    },
    {
      "cell_type": "code",
      "source": [
        "RungeKutta2(1, 2, 0.25,0)"
      ],
      "metadata": {
        "id": "IzPArRvuc3I1",
        "outputId": "5ff75a64-0b04-41e6-8be9-15e403eb2d19",
        "colab": {
          "base_uri": "https://localhost:8080/",
          "height": 175
        }
      },
      "execution_count": 26,
      "outputs": [
        {
          "output_type": "execute_result",
          "data": {
            "text/plain": [
              "         yi        zi\n",
              "0  1.000000  2.000000\n",
              "1  1.375000  1.159850\n",
              "2  1.573841  0.555340\n",
              "3  1.647738  0.131592"
            ],
            "text/html": [
              "\n",
              "  <div id=\"df-50afc1ce-ea75-46ba-8886-7586ec11d3e7\">\n",
              "    <div class=\"colab-df-container\">\n",
              "      <div>\n",
              "<style scoped>\n",
              "    .dataframe tbody tr th:only-of-type {\n",
              "        vertical-align: middle;\n",
              "    }\n",
              "\n",
              "    .dataframe tbody tr th {\n",
              "        vertical-align: top;\n",
              "    }\n",
              "\n",
              "    .dataframe thead th {\n",
              "        text-align: right;\n",
              "    }\n",
              "</style>\n",
              "<table border=\"1\" class=\"dataframe\">\n",
              "  <thead>\n",
              "    <tr style=\"text-align: right;\">\n",
              "      <th></th>\n",
              "      <th>yi</th>\n",
              "      <th>zi</th>\n",
              "    </tr>\n",
              "  </thead>\n",
              "  <tbody>\n",
              "    <tr>\n",
              "      <th>0</th>\n",
              "      <td>1.000000</td>\n",
              "      <td>2.000000</td>\n",
              "    </tr>\n",
              "    <tr>\n",
              "      <th>1</th>\n",
              "      <td>1.375000</td>\n",
              "      <td>1.159850</td>\n",
              "    </tr>\n",
              "    <tr>\n",
              "      <th>2</th>\n",
              "      <td>1.573841</td>\n",
              "      <td>0.555340</td>\n",
              "    </tr>\n",
              "    <tr>\n",
              "      <th>3</th>\n",
              "      <td>1.647738</td>\n",
              "      <td>0.131592</td>\n",
              "    </tr>\n",
              "  </tbody>\n",
              "</table>\n",
              "</div>\n",
              "      <button class=\"colab-df-convert\" onclick=\"convertToInteractive('df-50afc1ce-ea75-46ba-8886-7586ec11d3e7')\"\n",
              "              title=\"Convert this dataframe to an interactive table.\"\n",
              "              style=\"display:none;\">\n",
              "        \n",
              "  <svg xmlns=\"http://www.w3.org/2000/svg\" height=\"24px\"viewBox=\"0 0 24 24\"\n",
              "       width=\"24px\">\n",
              "    <path d=\"M0 0h24v24H0V0z\" fill=\"none\"/>\n",
              "    <path d=\"M18.56 5.44l.94 2.06.94-2.06 2.06-.94-2.06-.94-.94-2.06-.94 2.06-2.06.94zm-11 1L8.5 8.5l.94-2.06 2.06-.94-2.06-.94L8.5 2.5l-.94 2.06-2.06.94zm10 10l.94 2.06.94-2.06 2.06-.94-2.06-.94-.94-2.06-.94 2.06-2.06.94z\"/><path d=\"M17.41 7.96l-1.37-1.37c-.4-.4-.92-.59-1.43-.59-.52 0-1.04.2-1.43.59L10.3 9.45l-7.72 7.72c-.78.78-.78 2.05 0 2.83L4 21.41c.39.39.9.59 1.41.59.51 0 1.02-.2 1.41-.59l7.78-7.78 2.81-2.81c.8-.78.8-2.07 0-2.86zM5.41 20L4 18.59l7.72-7.72 1.47 1.35L5.41 20z\"/>\n",
              "  </svg>\n",
              "      </button>\n",
              "      \n",
              "  <style>\n",
              "    .colab-df-container {\n",
              "      display:flex;\n",
              "      flex-wrap:wrap;\n",
              "      gap: 12px;\n",
              "    }\n",
              "\n",
              "    .colab-df-convert {\n",
              "      background-color: #E8F0FE;\n",
              "      border: none;\n",
              "      border-radius: 50%;\n",
              "      cursor: pointer;\n",
              "      display: none;\n",
              "      fill: #1967D2;\n",
              "      height: 32px;\n",
              "      padding: 0 0 0 0;\n",
              "      width: 32px;\n",
              "    }\n",
              "\n",
              "    .colab-df-convert:hover {\n",
              "      background-color: #E2EBFA;\n",
              "      box-shadow: 0px 1px 2px rgba(60, 64, 67, 0.3), 0px 1px 3px 1px rgba(60, 64, 67, 0.15);\n",
              "      fill: #174EA6;\n",
              "    }\n",
              "\n",
              "    [theme=dark] .colab-df-convert {\n",
              "      background-color: #3B4455;\n",
              "      fill: #D2E3FC;\n",
              "    }\n",
              "\n",
              "    [theme=dark] .colab-df-convert:hover {\n",
              "      background-color: #434B5C;\n",
              "      box-shadow: 0px 1px 3px 1px rgba(0, 0, 0, 0.15);\n",
              "      filter: drop-shadow(0px 1px 2px rgba(0, 0, 0, 0.3));\n",
              "      fill: #FFFFFF;\n",
              "    }\n",
              "  </style>\n",
              "\n",
              "      <script>\n",
              "        const buttonEl =\n",
              "          document.querySelector('#df-50afc1ce-ea75-46ba-8886-7586ec11d3e7 button.colab-df-convert');\n",
              "        buttonEl.style.display =\n",
              "          google.colab.kernel.accessAllowed ? 'block' : 'none';\n",
              "\n",
              "        async function convertToInteractive(key) {\n",
              "          const element = document.querySelector('#df-50afc1ce-ea75-46ba-8886-7586ec11d3e7');\n",
              "          const dataTable =\n",
              "            await google.colab.kernel.invokeFunction('convertToInteractive',\n",
              "                                                     [key], {});\n",
              "          if (!dataTable) return;\n",
              "\n",
              "          const docLinkHtml = 'Like what you see? Visit the ' +\n",
              "            '<a target=\"_blank\" href=https://colab.research.google.com/notebooks/data_table.ipynb>data table notebook</a>'\n",
              "            + ' to learn more about interactive tables.';\n",
              "          element.innerHTML = '';\n",
              "          dataTable['output_type'] = 'display_data';\n",
              "          await google.colab.output.renderOutput(dataTable, element);\n",
              "          const docLink = document.createElement('div');\n",
              "          docLink.innerHTML = docLinkHtml;\n",
              "          element.appendChild(docLink);\n",
              "        }\n",
              "      </script>\n",
              "    </div>\n",
              "  </div>\n",
              "  "
            ]
          },
          "metadata": {},
          "execution_count": 26
        }
      ]
    },
    {
      "cell_type": "code",
      "source": [
        ""
      ],
      "metadata": {
        "id": "lSy-WwMrdZnL"
      },
      "execution_count": 26,
      "outputs": []
    }
  ]
}
{
  "nbformat": 4,
  "nbformat_minor": 0,
  "metadata": {
    "colab": {
      "name": "180041149_Math_4642_M_L2.ipynb",
      "provenance": [],
      "collapsed_sections": [],
      "toc_visible": true
    },
    "kernelspec": {
      "name": "python3",
      "display_name": "Python 3"
    },
    "language_info": {
      "name": "python"
    }
  },
  "cells": [
    {
      "cell_type": "markdown",
      "metadata": {
        "id": "SChhcgB_Tkv9"
      },
      "source": [
        "# **Lab 2 : False Position and Secant method**<br>\n",
        "\n",
        "The False Position method is one of the methods of finding roots of a non-linear function. Similar to the Bisection method, it falls under the category of **Bracketing methods** since the initial boundary guesses, x<sub>l</sub> and x<sub>u</sub>, must bracket the actual root. And the assumption here is that the function is real continuous, otherwise the False position method wouldn't work. The main difference between the Bisection method and False position method is that it takes advantage of the fact that one of the boundary values, either x<sub>l</sub> or x<sub>u</sub>, would have their functional value be closer to the zero of the function, and this would result in the new estimation x<sub>r</sub> be closer to one of the bracketing values than the mid-point x<sub>m</sub>.\n",
        "\n",
        "In today's lab, we will be implementing the False position method in python. Just like in the previous lab for Bisection method, we will be considering the function f(x) as an array of coefficients, for instance if we want to have f(x) = x<sup>3</sup>+x-2, then in python we will create an array as follows:\n"
      ]
    },
    {
      "cell_type": "code",
      "metadata": {
        "id": "rZ4tGQSjTvYF"
      },
      "source": [
        "f = [1,0,1,-2]"
      ],
      "execution_count": null,
      "outputs": []
    },
    {
      "cell_type": "markdown",
      "metadata": {
        "id": "E4vSfOrrTwlc"
      },
      "source": [
        "Note that your implementation should be able to handle the array f of any size,which means it should be able to find the root of any given polynomial. But for testing purposes, you can use the array f given here.\n",
        "\n",
        "Next, you will need to create a user-defined function as follows\n",
        "```\n",
        "func(f, x)\n",
        "```\n",
        "This function will take the coefficent array f and a point x as input and evaluate the value of the function at that point x using a loop and return that value. This function will be called in the other function that you will implement, which is as follows:\n",
        "```\n",
        "falseposition(f, xl, xu, epsilon)\n",
        "```\n",
        "This function will return the root of the equation represented by the array f and in case it does not reach the root exactly then it will return the close enough value to the root that has an absolute relative approximate error of at most epsilon (%)."
      ]
    },
    {
      "cell_type": "markdown",
      "metadata": {
        "id": "3sOLCbqJT7q0"
      },
      "source": [
        "##Task 1\n",
        "Implement the function for False position method following the requirements set earlier. Write a script after the function to call it and test whether it is working correctly. For the function given above, there is only one real root and it is 1."
      ]
    },
    {
      "cell_type": "code",
      "metadata": {
        "id": "f6HGUB7nT9k9",
        "outputId": "e631a7d3-fe06-43ec-a472-e5a9d8e4b378",
        "colab": {
          "base_uri": "https://localhost:8080/"
        }
      },
      "source": [
        "# Write a function to return the value of the polynomial at the point x\n",
        "import numpy as np\n",
        "def func(f, x):\n",
        "  val=0\n",
        "  for i in range(len(f)):\n",
        "    val+=f[i]*x**(len(f)-i-1)\n",
        "  return val  \n",
        "\n",
        "\n",
        "  \n",
        "\n",
        "#Complete the following function\n",
        "errors=[]\n",
        "iters=[]\n",
        "vals=[]\n",
        "\n",
        "def falseposition(f, xl, xu, epsilon):\n",
        "  i=0\n",
        "  error=1\n",
        "  xr_old=-np.inf\n",
        "  if(func(f,xl)*func(f,xu)>=0):\n",
        "    return \"False Position Method Failed\"\n",
        "  else:\n",
        "    while(error>epsilon):\n",
        "      i+=1\n",
        "      xr=(xu*func(f,xl)-xl*func(f,xu))/(func(f,xl)-func(f,xu))\n",
        "      error=abs((xr-xr_old)/xr)\n",
        "      xr_old=xr\n",
        "      iters.append(i)\n",
        "      vals.append(xr)\n",
        "      errors.append(error)\n",
        "      if(func(f,xl)*func(f,xr)<0):\n",
        "        xl=xl\n",
        "        xu=xr\n",
        "      elif(func(f,xr)*func(f,xu)<0):\n",
        "        xl=xr\n",
        "        xu=xu\n",
        "      elif(func(f,xr)==0):\n",
        "        return \"the root is \"+str(xr)\n",
        "    return xr          \n",
        "  #write your implementation here\n",
        "print(func(f,2))  \n",
        "falseposition(f,-5,7, 0.0001)\n",
        "\n",
        "#Write a driver code here for calling the function and testing it\n",
        "\n"
      ],
      "execution_count": null,
      "outputs": [
        {
          "output_type": "stream",
          "name": "stdout",
          "text": [
            "8\n"
          ]
        },
        {
          "output_type": "execute_result",
          "data": {
            "text/plain": [
              "0.9986623252662072"
            ]
          },
          "metadata": {},
          "execution_count": 15
        }
      ]
    },
    {
      "cell_type": "markdown",
      "metadata": {
        "id": "5Jb9dNIqT_f8"
      },
      "source": [
        "In case you do not remember how graphs can be plotted in Python, here is a sample code showing how to do it using the matplotlib library."
      ]
    },
    {
      "cell_type": "code",
      "metadata": {
        "colab": {
          "base_uri": "https://localhost:8080/",
          "height": 295
        },
        "id": "0XJwGIRjUCy7",
        "outputId": "1e112119-7d1c-4c80-b3ce-004c38e2dba3"
      },
      "source": [
        "import numpy as np\n",
        "import matplotlib.pyplot as plt\n",
        "\n",
        "#iters = np.arange(0, 5) #start=0, stop=5, and since no step is given, so default step=1\n",
        "#vals = np.arange(100, 200, 20) #start=100, stop=200, step=20\n",
        "\n",
        "plt.plot(iters, vals,\"r\")\n",
        "plt.title(\"Iterations vs values plot\")\n",
        "plt.xlabel(\"Iteration\")\n",
        "plt.ylabel(\"Value\")\n",
        "plt.show()"
      ],
      "execution_count": null,
      "outputs": [
        {
          "output_type": "display_data",
          "data": {
            "image/png": "[encoded data removed]",
            "text/plain": [
              "<Figure size 432x288 with 1 Axes>"
            ]
          },
          "metadata": {
            "needs_background": "light"
          }
        }
      ]
    },
    {
      "cell_type": "markdown",
      "metadata": {
        "id": "Z6sc0ZNUUGNk"
      },
      "source": [
        "## Task 2\n",
        "Generate a plot of **iteration vs relative approx error (%)** for the False Position method function you implemented earlier."
      ]
    },
    {
      "cell_type": "code",
      "metadata": {
        "id": "zHadfasm8dUF",
        "outputId": "0ca88bdd-2042-4cdd-ab94-ac0d1c418ba9",
        "colab": {
          "base_uri": "https://localhost:8080/",
          "height": 295
        }
      },
      "source": [
        "# Write your code for generating the graph here\n",
        "\n",
        "plt.plot(iters, errors,\"r\")\n",
        "plt.title(\"Iterations vs relative approx error (%)\")\n",
        "plt.xlabel(\"Iteration\")\n",
        "plt.ylabel(\"relative approx error (%) \")\n",
        "plt.show()\n",
        "\n"
      ],
      "execution_count": null,
      "outputs": [
        {
          "output_type": "display_data",
          "data": {
            "image/png": "[encoded data removed]",
            "text/plain": [
              "<Figure size 432x288 with 1 Axes>"
            ]
          },
          "metadata": {
            "needs_background": "light"
          }
        }
      ]
    },
    {
      "cell_type": "markdown",
      "metadata": {
        "id": "t1yWM5V18cA2"
      },
      "source": [
        "# **Secant method**\n",
        "The Secant method is another method of finding roots of a nonlinear function. Unlike the Bisection and False position method, it falls under the category of **Open methods** due to the fact that we only need two initial guesses that do not have to bracket the actual root. Secant method works by approximating the derivative that is used in **Newton Raphson method**."
      ]
    },
    {
      "cell_type": "markdown",
      "metadata": {
        "id": "rcyU1bzM9u3g"
      },
      "source": [
        "## Task 3\n",
        "Implement the Secant method for the above function and write a script for testing its implementation. The actual root is 1, and you can take the initial guesses for the secant as 2 and 2.2."
      ]
    },
    {
      "cell_type": "code",
      "metadata": {
        "id": "HcPhTbIu_sn4",
        "outputId": "ca9335e0-f12c-4512-941a-43afea41cabe",
        "colab": {
          "base_uri": "https://localhost:8080/"
        }
      },
      "source": [
        "Xi = 2\n",
        "Xi_prev = 2.1\n",
        "epsilon = 0.0001\n",
        "errors2=[]\n",
        "iters2=[]\n",
        "# Complete the following function\n",
        "def secant(f, Xi, Xi_prev, epsilon):\n",
        "  # write your implementation here\n",
        "  error=1\n",
        "  i=0\n",
        "  while(error>epsilon):\n",
        "\n",
        "    i = i+1\n",
        "    iters2.append(i)\n",
        "    Xi_1=Xi-(func(f,Xi)*(Xi-Xi_prev))/(func(f,Xi)-func(f,Xi_prev))\n",
        "    error=abs((Xi_1-Xi)/Xi_1)\n",
        "    errors2.append(error)\n",
        "    print(error)\n",
        "    Xi_prev=Xi\n",
        "    Xi=Xi_1\n",
        "   \n",
        "    \n",
        "  return Xi_1  \n",
        "  \n",
        "\n",
        "# Write a script here for calling the above function\n",
        "print(secant(f, Xi, Xi_prev, epsilon))"
      ],
      "execution_count": null,
      "outputs": [
        {
          "output_type": "stream",
          "name": "stdout",
          "text": [
            "0.41623309053069746\n",
            "0.19149841984890034\n",
            "0.13394141256100303\n",
            "0.03928956478196645\n",
            "0.005523438445667919\n",
            "0.0001889533838503116\n",
            "8.111587700594902e-07\n",
            "1.0000000001154543\n"
          ]
        }
      ]
    },
    {
      "cell_type": "markdown",
      "source": [
        "## Task 4\n",
        "Plot the **iteration vs absolute relative approximate error (%)** curves for both False position method and Secant method in the same graph and see which one converges faster."
      ],
      "metadata": {
        "id": "8lJg-fOvDMC-"
      }
    },
    {
      "cell_type": "code",
      "source": [
        "plt.plot(iters, errors,\"r\")\n",
        "plt.plot(iters2, errors2,\"c\")\n",
        "plt.legend([\"False-position\",\"secant\"])\n",
        "plt.title(\"Iterations vs relative approx error (%)\")\n",
        "plt.xlabel(\"Iteration\")\n",
        "plt.ylabel(\"relative approx error (%) \")\n",
        "plt.show()\n",
        "\n"
      ],
      "metadata": {
        "id": "7QXXRuRu8s56",
        "outputId": "fed4c014-d9bc-4ab6-cdd6-bcd4a7ba1502",
        "colab": {
          "base_uri": "https://localhost:8080/",
          "height": 295
        }
      },
      "execution_count": null,
      "outputs": [
        {
          "output_type": "display_data",
          "data": {
            "image/png": "[encoded data removed]",
            "text/plain": [
              "<Figure size 432x288 with 1 Axes>"
            ]
          },
          "metadata": {
            "needs_background": "light"
          }
        }
      ]
    },
    {
      "cell_type": "code",
      "source": [
        ""
      ],
      "metadata": {
        "id": "o3uQmWHc9dOp"
      },
      "execution_count": null,
      "outputs": []
    }
  ]
}
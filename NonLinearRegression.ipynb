{
  "nbformat": 4,
  "nbformat_minor": 0,
  "metadata": {
    "colab": {
      "name": "Math_4642_M_L4.ipynb",
      "provenance": [],
      "collapsed_sections": []
    },
    "kernelspec": {
      "name": "python3",
      "display_name": "Python 3"
    },
    "language_info": {
      "name": "python"
    }
  },
  "cells": [
    {
      "cell_type": "markdown",
      "source": [
        "# **Lab 4 : Nonlinear Regression**<br>\n",
        "\n",
        "Regression is the process of estimating a model that produces the best fit for the given data. The simplest method of doing this is by Linear Regression, which assumes that the data are linear in the unknown parameters. But in real life, there are many scenarios where the data is not linearly related. Any model that is not linear in the unknown parameters is known as a **Nonlinear Regression** model. There are various forms of nonlinear regression models, one of which is the exponential model, which is given as y = ae<sup>bx<sub>i</sub></sup>, where a and b are the parameters of the regression model. The values of these two parameters should be such that the produced result of ae<sup>bx<sub>i</sub></sup> should have the least deviation from the actual result. In order to measure how well our model fits the data or whether it deviates from the actual result, we use the least square criterion.\n",
        "\n",
        "In today's lab, we will be implementing the Exponential Regression model in python. To test our implementation, we will be using the same data that is available in the first example of our class lecture pdf. That way, you can check whether your implementation is working correctly by comparing with the results obtained in that example. Run the following cell to load the known data points:\n"
      ],
      "metadata": {
        "id": "Dex_lDl5gUKB"
      }
    },
    {
      "cell_type": "code",
      "source": [
        "time = [0, 1, 3, 5, 7, 9]\n",
        "gamma = [1, 0.891, 0.708, 0.562, 0.447, 0.355]"
      ],
      "metadata": {
        "id": "_QpvT2CYjART"
      },
      "execution_count": 31,
      "outputs": []
    },
    {
      "cell_type": "markdown",
      "source": [
        "##Task 1\n",
        "Assuming that the exponential model for the given data is defined as γ = Ae<sup>λt</sup>, write a function that takes the given data as input and returns the regression parameters A and λ. "
      ],
      "metadata": {
        "id": "_XU-vXFFzj4T"
      }
    },
    {
      "cell_type": "code",
      "source": [
        "from math import exp\n",
        "import numpy as np\n",
        "def func(x):\n",
        "  val=0\n",
        "  val1=0\n",
        "  val2=0\n",
        "  val3=0\n",
        "  for i in range(len(time)):\n",
        "    val+=gamma[i]*time[i]*exp(x*time[i])\n",
        "    val1+=exp(2*x*time[i])\n",
        "    val2+=gamma[i]*exp(x*time[i])\n",
        "    val3+=time[i]*exp(2*x*time[i])\n",
        "  return val-((val2/val1)*val3)\n",
        "iterations=[]\n",
        "epss=[]  \n",
        "def secant(Xi, Xi_prev, epsilon):\n",
        "  # write your implementation here\n",
        "  error=1\n",
        "  i=0\n",
        "  while(error>epsilon):\n",
        "\n",
        "    i = i+1\n",
        "    Xi_1=Xi-(func(Xi)*(Xi-Xi_prev))/(func(Xi)-func(Xi_prev))\n",
        "    error=abs((Xi_1-Xi)/Xi_1)\n",
        "    Xi_prev=Xi\n",
        "    Xi=Xi_1 \n",
        "  return Xi_1  \n",
        "print(secant( 2,2.1,0.00001))    \n",
        "def NonLinearRegression(time, gamma):\n",
        "  #Write your implementation here\n",
        "  l=secant( 2,2.1,0.00001)\n",
        "  val=0\n",
        "  val1=0\n",
        "  for i in range(len(time)):\n",
        "    val+=gamma[i]*exp(l*time[i])\n",
        "    val1+=exp(2*l*time[i])\n",
        "  A=val/val1  \n",
        "  return A, l  \n",
        "\n",
        "  "
      ],
      "metadata": {
        "id": "xv0ziIB60ET8",
        "outputId": "7b38d3cf-1d19-41b9-8a35-19e056a8ab66",
        "colab": {
          "base_uri": "https://localhost:8080/"
        }
      },
      "execution_count": 32,
      "outputs": [
        {
          "output_type": "stream",
          "name": "stdout",
          "text": [
            "-0.11508304094513591\n"
          ]
        }
      ]
    },
    {
      "cell_type": "code",
      "source": [
        "len(values)"
      ],
      "metadata": {
        "id": "88pHKWzcetzU",
        "outputId": "b5e28cc3-e24d-4785-d32a-736455521b3e",
        "colab": {
          "base_uri": "https://localhost:8080/"
        }
      },
      "execution_count": 41,
      "outputs": [
        {
          "output_type": "execute_result",
          "data": {
            "text/plain": [
              "50"
            ]
          },
          "metadata": {},
          "execution_count": 41
        }
      ]
    },
    {
      "cell_type": "markdown",
      "source": [
        "##Task 2\n",
        "Write another function that takes any arbitrary value as input and applies the regression model to generate the output. "
      ],
      "metadata": {
        "id": "GzKLR0nkj32g"
      }
    },
    {
      "cell_type": "code",
      "source": [
        "from math import e\n",
        "import numpy as np\n",
        "A,l= NonLinearRegression(time, gamma)\n",
        "def calculate(A,l,t):\n",
        "  return A*pow(e,l*t)\n",
        "\n",
        "  #Write your implementation here\n",
        "values=np.linspace(0,9,200)\n",
        "gamma_pred=[]  \n",
        "for i in values:\n",
        "  gamma_pred.append(calculate(A,l,i))\n",
        "\n",
        "\n",
        "  \n"
      ],
      "metadata": {
        "id": "2m1trUT_k5pi"
      },
      "execution_count": 46,
      "outputs": []
    },
    {
      "cell_type": "code",
      "source": [
        "len(gamma_pred)"
      ],
      "metadata": {
        "id": "cvGfrRhLcEsO",
        "outputId": "1ff069c9-58e8-4bbd-e18c-ff6bae0fce30",
        "colab": {
          "base_uri": "https://localhost:8080/"
        }
      },
      "execution_count": 34,
      "outputs": [
        {
          "output_type": "execute_result",
          "data": {
            "text/plain": [
              "6"
            ]
          },
          "metadata": {},
          "execution_count": 34
        }
      ]
    },
    {
      "cell_type": "code",
      "source": [
        "len(gamma)"
      ],
      "metadata": {
        "id": "wScJtyYjdQk2",
        "outputId": "cd024c02-045c-4e99-e80c-2be2793fb069",
        "colab": {
          "base_uri": "https://localhost:8080/"
        }
      },
      "execution_count": 35,
      "outputs": [
        {
          "output_type": "execute_result",
          "data": {
            "text/plain": [
              "6"
            ]
          },
          "metadata": {},
          "execution_count": 35
        }
      ]
    },
    {
      "cell_type": "markdown",
      "source": [
        "##Task 3\n",
        "Use the calculate function in a loop to generate a plot of the regression curve. Show the original data points (time, gamma) on the same plot using stem function. Use different colors for the regression curve and the original data points and show a legend. For this task, you are allowed to use various libraries such as matplotlib."
      ],
      "metadata": {
        "id": "HhsqLMYYpD8S"
      }
    },
    {
      "cell_type": "code",
      "source": [
        "#Write your code here for generating the plot\n",
        "\n",
        "import matplotlib.pyplot as plt\n",
        "plt.plot(time,gamma,\"b.\")\n",
        "plt.plot(values,gamma_pred,\"y.\")\n",
        "plt.legend([\"original points\",\"Linear regression\"])\n",
        "plt.title(\"Non Linear Regression vs origina points\")\n",
        "plt.show()"
      ],
      "metadata": {
        "id": "ShRMjjHSm-dq",
        "outputId": "134ba4b7-9d3b-446d-e1fa-ccec65995492",
        "colab": {
          "base_uri": "https://localhost:8080/",
          "height": 281
        }
      },
      "execution_count": 47,
      "outputs": [
        {
          "output_type": "display_data",
          "data": {
            "image/png": "[encoded data removed]",
            "text/plain": [
              "<Figure size 432x288 with 1 Axes>"
            ]
          },
          "metadata": {
            "needs_background": "light"
          }
        }
      ]
    },
    {
      "cell_type": "code",
      "source": [
        "exp(1)"
      ],
      "metadata": {
        "id": "qMp88UYkazF3",
        "outputId": "8b19543c-a9cd-42bb-9449-7fe957775f1d",
        "colab": {
          "base_uri": "https://localhost:8080/"
        }
      },
      "execution_count": 37,
      "outputs": [
        {
          "output_type": "execute_result",
          "data": {
            "text/plain": [
              "2.718281828459045"
            ]
          },
          "metadata": {},
          "execution_count": 37
        }
      ]
    },
    {
      "cell_type": "code",
      "source": [
        ""
      ],
      "metadata": {
        "id": "7bagVEA4az1m"
      },
      "execution_count": 37,
      "outputs": []
    }
  ]
}